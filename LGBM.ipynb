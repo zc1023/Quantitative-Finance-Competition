{
 "cells": [
  {
   "cell_type": "markdown",
   "metadata": {},
   "source": [
    "# Training"
   ]
  },
  {
   "cell_type": "code",
   "execution_count": 40,
   "metadata": {},
   "outputs": [],
   "source": [
    "from lightgbm import LGBMRegressor \n",
    "import pandas as pd\n",
    "from sklearn import linear_model\n",
    "import pickle\n",
    "import xgboost as xgb  \n"
   ]
  },
  {
   "cell_type": "code",
   "execution_count": 41,
   "metadata": {},
   "outputs": [
    {
     "name": "stdout",
     "output_type": "stream",
     "text": [
      "                         0         1         2         3         4         5  \\\n",
      "time_id stock_id                                                               \n",
      "0       0        -0.209346 -1.010500 -0.287233 -0.600063 -0.579602  3.176390   \n",
      "        1        -1.090990 -1.467420 -0.756335 -0.305982 -0.770341  0.167490   \n",
      "        2        -0.172040 -0.359719  0.829011  0.323263 -0.086078 -0.853505   \n",
      "        3        -0.089830  0.999348  0.130448  0.441553  0.366906 -2.294330   \n",
      "        4         0.231559 -0.169006 -0.376518  0.985890 -0.505112 -1.006770   \n",
      "...                    ...       ...       ...       ...       ...       ...   \n",
      "727     2511      2.382260  0.966825  1.178910  1.184540  0.234592 -0.727670   \n",
      "        2512     -0.343863  0.531484  2.455260 -1.387990  0.565996  0.487475   \n",
      "        2513     -0.777487 -0.577208  1.499070 -1.236990 -1.455700 -1.187930   \n",
      "        2534      2.311920  2.827400  0.207041  0.211622  1.645400 -1.621990   \n",
      "        2539     -2.244430 -0.197322 -0.732056  0.974902  1.043890 -1.226230   \n",
      "\n",
      "                         6         7         8         9  ...       291  \\\n",
      "time_id stock_id                                          ...             \n",
      "0       0         0.916548 -0.233095 -0.031403  2.138110  ...  0.332558   \n",
      "        1         0.745434 -0.210874 -0.918826  0.103349  ... -0.365191   \n",
      "        2        -0.770341 -0.521315 -0.535930  1.476260  ... -0.168552   \n",
      "        3         1.056400 -0.445677 -0.564633  1.106030  ... -1.194840   \n",
      "        4         0.308333 -0.220056 -0.638095 -0.577834  ...  0.407966   \n",
      "...                    ...       ...       ...       ...  ...       ...   \n",
      "727     2511      1.342480  1.477040  0.071198 -0.290256  ...  0.456975   \n",
      "        2512      0.361746 -1.781320 -1.518300 -0.277427  ... -0.273104   \n",
      "        2513     -0.364139 -1.906880 -1.379240 -0.769931  ...  1.019680   \n",
      "        2534     -1.346630 -0.047630  0.541185 -0.364738  ... -0.736401   \n",
      "        2539     -0.359953  1.061440 -1.587490 -1.366300  ...  0.538063   \n",
      "\n",
      "                       292       293       294       295       296       297  \\\n",
      "time_id stock_id                                                               \n",
      "0       0         1.214960  0.601278 -0.537854  1.053960  0.440747 -0.243538   \n",
      "        1        -0.132949 -0.165515 -0.170072 -0.463976  0.429221 -0.531805   \n",
      "        2        -0.566640  0.084729 -0.506098 -0.565760 -0.691749 -0.805768   \n",
      "        3         0.698424  0.430864 -0.907378  0.579880 -0.145048  0.307333   \n",
      "        4        -1.102160  0.532668  0.045700 -0.644930  0.381250 -0.258222   \n",
      "...                    ...       ...       ...       ...       ...       ...   \n",
      "727     2511      0.103156  0.418173 -2.036000  0.186313  0.628984 -0.391446   \n",
      "        2512      1.776280 -0.925383  1.700260  1.781730  0.217729  0.169256   \n",
      "        2513      1.125090 -0.534832  0.758601  1.098100  0.584580  1.157290   \n",
      "        2534     -2.097540  0.142631  1.021560 -1.815580 -0.230929 -0.287656   \n",
      "        2539     -1.109420  0.010074 -2.001650 -0.818949 -0.787271 -0.013991   \n",
      "\n",
      "                       298       299     label  \n",
      "time_id stock_id                                \n",
      "0       0         1.708510  1.560620 -0.023618  \n",
      "        1        -0.297925 -0.554371 -0.016899  \n",
      "        2         0.023219 -0.358794 -0.004793  \n",
      "        3        -0.632990  0.038204  0.042915  \n",
      "        4        -0.053198  0.170072  0.017077  \n",
      "...                    ...       ...       ...  \n",
      "727     2511     -0.178916  0.087977 -0.040806  \n",
      "        2512      1.993420  1.558990 -0.030179  \n",
      "        2513      1.731980  1.332020 -0.147967  \n",
      "        2534     -1.707430  1.275720  0.003157  \n",
      "        2539     -1.572330 -1.714680  0.003305  \n",
      "\n",
      "[1284587 rows x 301 columns]\n"
     ]
    }
   ],
   "source": [
    "train_df = pd.read_csv('./train.csv').set_index(['time_id', 'stock_id'])\n",
    "\n",
    "# 填充缺失数据\n",
    "train_df.fillna(0, inplace=True)\n",
    "print(train_df)"
   ]
  },
  {
   "cell_type": "code",
   "execution_count": 45,
   "metadata": {},
   "outputs": [],
   "source": [
    "# 创建线性回归模型\n",
    "reg = linear_model.LinearRegression()\n",
    "\n",
    "lgbm_model = LGBMRegressor(boosting_type='gbdt',  \n",
    "                      objective='regression',  \n",
    "                      metric='rmse',  \n",
    "                      num_leaves=60,  \n",
    "                      learning_rate=0.05,  \n",
    "                      feature_fraction=0.9,  \n",
    "                      bagging_fraction=0.8,  \n",
    "                      bagging_freq=5,  \n",
    "                      verbose=0) \n",
    "\n",
    "xgb_model = xgb.XGBRegressor(  \n",
    "    objective='reg:squarederror',  \n",
    "    max_depth=6,  \n",
    "    learning_rate=0.1,  \n",
    "    n_estimators=100,  \n",
    "    verbosity=1,  \n",
    "    random_state=42  \n",
    ")"
   ]
  },
  {
   "cell_type": "code",
   "execution_count": 88,
   "metadata": {},
   "outputs": [
    {
     "name": "stdout",
     "output_type": "stream",
     "text": [
      "[[-0.209346  -1.0105    -0.287233  ... -0.243538   1.70851    1.56062  ]\n",
      " [-1.09099   -1.46742   -0.756335  ... -0.531805  -0.297925  -0.554371 ]\n",
      " [-0.17204   -0.359719   0.829011  ... -0.805768   0.0232186 -0.358794 ]\n",
      " ...\n",
      " [-0.777487  -0.577208   1.49907   ...  1.15729    1.73198    1.33202  ]\n",
      " [ 2.31192    2.8274     0.207041  ... -0.287656  -1.70743    1.27572  ]\n",
      " [-2.24443   -0.197322  -0.732056  ... -0.0139914 -1.57233   -1.71468  ]]\n"
     ]
    }
   ],
   "source": [
    "# 将数据集划分为特征和目标变量\n",
    "X = train_df.iloc[:,:-1].values\n",
    "print(X)\n",
    "y = train_df.iloc[:,-1].values\n",
    "\n",
    "# 训练模型\n",
    "lgbm_model.fit(X, y)\n",
    "xgb_model.fit(X, y)"
   ]
  },
  {
   "cell_type": "code",
   "execution_count": 52,
   "metadata": {},
   "outputs": [],
   "source": [
    "# 保存模型\n",
    "with open('lgbm_model.pkl', 'wb') as f:\n",
    "    pickle.dump(lgbm_model, f)\n",
    "    \n",
    "with open('xgb_model.pkl', 'wb') as f:\n",
    "    pickle.dump(xgb_model, f)"
   ]
  },
  {
   "cell_type": "markdown",
   "metadata": {},
   "source": [
    "## Train linear layer"
   ]
  },
  {
   "cell_type": "code",
   "execution_count": 89,
   "metadata": {},
   "outputs": [
    {
     "name": "stdout",
     "output_type": "stream",
     "text": [
      "[LightGBM] [Warning] feature_fraction is set=0.9, colsample_bytree=1.0 will be ignored. Current value: feature_fraction=0.9\n",
      "[LightGBM] [Warning] bagging_fraction is set=0.8, subsample=1.0 will be ignored. Current value: bagging_fraction=0.8\n",
      "[LightGBM] [Warning] bagging_freq is set=5, subsample_freq=0 will be ignored. Current value: bagging_freq=5\n"
     ]
    }
   ],
   "source": [
    "y_lgbm = lgbm_model.predict(X)\n",
    "y_xgb = xgb_model.predict(X)"
   ]
  },
  {
   "cell_type": "code",
   "execution_count": 76,
   "metadata": {},
   "outputs": [
    {
     "data": {
      "text/html": [
       "<div>\n",
       "<style scoped>\n",
       "    .dataframe tbody tr th:only-of-type {\n",
       "        vertical-align: middle;\n",
       "    }\n",
       "\n",
       "    .dataframe tbody tr th {\n",
       "        vertical-align: top;\n",
       "    }\n",
       "\n",
       "    .dataframe thead th {\n",
       "        text-align: right;\n",
       "    }\n",
       "</style>\n",
       "<table border=\"1\" class=\"dataframe\">\n",
       "  <thead>\n",
       "    <tr style=\"text-align: right;\">\n",
       "      <th></th>\n",
       "      <th>time_id</th>\n",
       "      <th>stock_id</th>\n",
       "      <th>0</th>\n",
       "      <th>1</th>\n",
       "      <th>2</th>\n",
       "      <th>3</th>\n",
       "      <th>4</th>\n",
       "      <th>5</th>\n",
       "      <th>6</th>\n",
       "      <th>7</th>\n",
       "      <th>...</th>\n",
       "      <th>291</th>\n",
       "      <th>292</th>\n",
       "      <th>293</th>\n",
       "      <th>294</th>\n",
       "      <th>295</th>\n",
       "      <th>296</th>\n",
       "      <th>297</th>\n",
       "      <th>298</th>\n",
       "      <th>299</th>\n",
       "      <th>label</th>\n",
       "    </tr>\n",
       "  </thead>\n",
       "  <tbody>\n",
       "    <tr>\n",
       "      <th>0</th>\n",
       "      <td>0</td>\n",
       "      <td>0</td>\n",
       "      <td>-0.209346</td>\n",
       "      <td>-1.010500</td>\n",
       "      <td>-0.287233</td>\n",
       "      <td>-0.600063</td>\n",
       "      <td>-0.579602</td>\n",
       "      <td>3.176390</td>\n",
       "      <td>0.916548</td>\n",
       "      <td>-0.233095</td>\n",
       "      <td>...</td>\n",
       "      <td>0.332558</td>\n",
       "      <td>1.214960</td>\n",
       "      <td>0.601278</td>\n",
       "      <td>-0.537854</td>\n",
       "      <td>1.053960</td>\n",
       "      <td>0.440747</td>\n",
       "      <td>-0.243538</td>\n",
       "      <td>1.708510</td>\n",
       "      <td>1.560620</td>\n",
       "      <td>-0.023618</td>\n",
       "    </tr>\n",
       "    <tr>\n",
       "      <th>1</th>\n",
       "      <td>0</td>\n",
       "      <td>1</td>\n",
       "      <td>-1.090990</td>\n",
       "      <td>-1.467420</td>\n",
       "      <td>-0.756335</td>\n",
       "      <td>-0.305982</td>\n",
       "      <td>-0.770341</td>\n",
       "      <td>0.167490</td>\n",
       "      <td>0.745434</td>\n",
       "      <td>-0.210874</td>\n",
       "      <td>...</td>\n",
       "      <td>-0.365191</td>\n",
       "      <td>-0.132949</td>\n",
       "      <td>-0.165515</td>\n",
       "      <td>-0.170072</td>\n",
       "      <td>-0.463976</td>\n",
       "      <td>0.429221</td>\n",
       "      <td>-0.531805</td>\n",
       "      <td>-0.297925</td>\n",
       "      <td>-0.554371</td>\n",
       "      <td>-0.016899</td>\n",
       "    </tr>\n",
       "    <tr>\n",
       "      <th>2</th>\n",
       "      <td>0</td>\n",
       "      <td>2</td>\n",
       "      <td>-0.172040</td>\n",
       "      <td>-0.359719</td>\n",
       "      <td>0.829011</td>\n",
       "      <td>0.323263</td>\n",
       "      <td>-0.086078</td>\n",
       "      <td>-0.853505</td>\n",
       "      <td>-0.770341</td>\n",
       "      <td>-0.521315</td>\n",
       "      <td>...</td>\n",
       "      <td>-0.168552</td>\n",
       "      <td>-0.566640</td>\n",
       "      <td>0.084729</td>\n",
       "      <td>-0.506098</td>\n",
       "      <td>-0.565760</td>\n",
       "      <td>-0.691749</td>\n",
       "      <td>-0.805768</td>\n",
       "      <td>0.023219</td>\n",
       "      <td>-0.358794</td>\n",
       "      <td>-0.004793</td>\n",
       "    </tr>\n",
       "    <tr>\n",
       "      <th>3</th>\n",
       "      <td>0</td>\n",
       "      <td>3</td>\n",
       "      <td>-0.089830</td>\n",
       "      <td>0.999348</td>\n",
       "      <td>0.130448</td>\n",
       "      <td>0.441553</td>\n",
       "      <td>0.366906</td>\n",
       "      <td>-2.294330</td>\n",
       "      <td>1.056400</td>\n",
       "      <td>-0.445677</td>\n",
       "      <td>...</td>\n",
       "      <td>-1.194840</td>\n",
       "      <td>0.698424</td>\n",
       "      <td>0.430864</td>\n",
       "      <td>-0.907378</td>\n",
       "      <td>0.579880</td>\n",
       "      <td>-0.145048</td>\n",
       "      <td>0.307333</td>\n",
       "      <td>-0.632990</td>\n",
       "      <td>0.038204</td>\n",
       "      <td>0.042915</td>\n",
       "    </tr>\n",
       "    <tr>\n",
       "      <th>4</th>\n",
       "      <td>0</td>\n",
       "      <td>4</td>\n",
       "      <td>0.231559</td>\n",
       "      <td>-0.169006</td>\n",
       "      <td>-0.376518</td>\n",
       "      <td>0.985890</td>\n",
       "      <td>-0.505112</td>\n",
       "      <td>-1.006770</td>\n",
       "      <td>0.308333</td>\n",
       "      <td>-0.220056</td>\n",
       "      <td>...</td>\n",
       "      <td>0.407966</td>\n",
       "      <td>-1.102160</td>\n",
       "      <td>0.532668</td>\n",
       "      <td>0.045700</td>\n",
       "      <td>-0.644930</td>\n",
       "      <td>0.381250</td>\n",
       "      <td>-0.258222</td>\n",
       "      <td>-0.053198</td>\n",
       "      <td>0.170072</td>\n",
       "      <td>0.017077</td>\n",
       "    </tr>\n",
       "  </tbody>\n",
       "</table>\n",
       "<p>5 rows × 303 columns</p>\n",
       "</div>"
      ],
      "text/plain": [
       "   time_id  stock_id         0         1         2         3         4  \\\n",
       "0        0         0 -0.209346 -1.010500 -0.287233 -0.600063 -0.579602   \n",
       "1        0         1 -1.090990 -1.467420 -0.756335 -0.305982 -0.770341   \n",
       "2        0         2 -0.172040 -0.359719  0.829011  0.323263 -0.086078   \n",
       "3        0         3 -0.089830  0.999348  0.130448  0.441553  0.366906   \n",
       "4        0         4  0.231559 -0.169006 -0.376518  0.985890 -0.505112   \n",
       "\n",
       "          5         6         7  ...       291       292       293       294  \\\n",
       "0  3.176390  0.916548 -0.233095  ...  0.332558  1.214960  0.601278 -0.537854   \n",
       "1  0.167490  0.745434 -0.210874  ... -0.365191 -0.132949 -0.165515 -0.170072   \n",
       "2 -0.853505 -0.770341 -0.521315  ... -0.168552 -0.566640  0.084729 -0.506098   \n",
       "3 -2.294330  1.056400 -0.445677  ... -1.194840  0.698424  0.430864 -0.907378   \n",
       "4 -1.006770  0.308333 -0.220056  ...  0.407966 -1.102160  0.532668  0.045700   \n",
       "\n",
       "        295       296       297       298       299     label  \n",
       "0  1.053960  0.440747 -0.243538  1.708510  1.560620 -0.023618  \n",
       "1 -0.463976  0.429221 -0.531805 -0.297925 -0.554371 -0.016899  \n",
       "2 -0.565760 -0.691749 -0.805768  0.023219 -0.358794 -0.004793  \n",
       "3  0.579880 -0.145048  0.307333 -0.632990  0.038204  0.042915  \n",
       "4 -0.644930  0.381250 -0.258222 -0.053198  0.170072  0.017077  \n",
       "\n",
       "[5 rows x 303 columns]"
      ]
     },
     "execution_count": 76,
     "metadata": {},
     "output_type": "execute_result"
    }
   ],
   "source": [
    "train_df1 = pd.read_csv('./train.csv')\n",
    "train_df1.head()"
   ]
  },
  {
   "cell_type": "code",
   "execution_count": 90,
   "metadata": {},
   "outputs": [
    {
     "name": "stdout",
     "output_type": "stream",
     "text": [
      "         time_id  stock_id\n",
      "0              0         0\n",
      "1              0         1\n",
      "2              0         2\n",
      "3              0         3\n",
      "4              0         4\n",
      "...          ...       ...\n",
      "1284582      727      2511\n",
      "1284583      727      2512\n",
      "1284584      727      2513\n",
      "1284585      727      2534\n",
      "1284586      727      2539\n",
      "\n",
      "[1284587 rows x 2 columns]\n",
      "1284587\n",
      "<class 'pandas.core.frame.DataFrame'>\n",
      "RangeIndex: 1284587 entries, 0 to 1284586\n",
      "Data columns (total 5 columns):\n",
      " #   Column    Non-Null Count    Dtype  \n",
      "---  ------    --------------    -----  \n",
      " 0   time_id   1284587 non-null  int64  \n",
      " 1   stock_id  1284587 non-null  int64  \n",
      " 2   y_lgbm    1284587 non-null  float64\n",
      " 3   y_xgb     1284587 non-null  float32\n",
      " 4   label     1284587 non-null  float64\n",
      "dtypes: float32(1), float64(2), int64(2)\n",
      "memory usage: 44.1 MB\n",
      "None\n"
     ]
    }
   ],
   "source": [
    "import pandas as pd\n",
    "import numpy as np\n",
    "\n",
    "train_df1 = pd.read_csv('./train.csv')\n",
    "train_df1.head()\n",
    "print(selected_columns)\n",
    "y_lgbm=pd.Series(y_lgbm, name='y_lgbm') \n",
    "y_xgb=pd.Series(y_xgb, name='y_xgb') \n",
    "df = pd.concat([train_df1[['time_id', 'stock_id']], y_lgbm,y_xgb,train_df1[[\"label\"]]], axis=1)  \n",
    "print(len(y_lgbm))\n",
    "\n",
    "print(df.info()) "
   ]
  },
  {
   "cell_type": "code",
   "execution_count": 91,
   "metadata": {},
   "outputs": [
    {
     "name": "stdout",
     "output_type": "stream",
     "text": [
      "[[ 0.00000000e+00  0.00000000e+00  7.66380652e-03  5.88802667e-03]\n",
      " [ 0.00000000e+00  1.00000000e+00  1.42757764e-03  8.09455058e-04]\n",
      " [ 0.00000000e+00  2.00000000e+00  1.09450188e-03  7.18510244e-04]\n",
      " ...\n",
      " [ 7.27000000e+02  2.51300000e+03 -3.22541878e-03 -2.94190529e-03]\n",
      " [ 7.27000000e+02  2.53400000e+03  1.01281052e-02  9.91014671e-03]\n",
      " [ 7.27000000e+02  2.53900000e+03  3.78144617e-05 -7.24847661e-04]]\n"
     ]
    },
    {
     "data": {
      "text/html": [
       "<style>#sk-container-id-5 {color: black;}#sk-container-id-5 pre{padding: 0;}#sk-container-id-5 div.sk-toggleable {background-color: white;}#sk-container-id-5 label.sk-toggleable__label {cursor: pointer;display: block;width: 100%;margin-bottom: 0;padding: 0.3em;box-sizing: border-box;text-align: center;}#sk-container-id-5 label.sk-toggleable__label-arrow:before {content: \"▸\";float: left;margin-right: 0.25em;color: #696969;}#sk-container-id-5 label.sk-toggleable__label-arrow:hover:before {color: black;}#sk-container-id-5 div.sk-estimator:hover label.sk-toggleable__label-arrow:before {color: black;}#sk-container-id-5 div.sk-toggleable__content {max-height: 0;max-width: 0;overflow: hidden;text-align: left;background-color: #f0f8ff;}#sk-container-id-5 div.sk-toggleable__content pre {margin: 0.2em;color: black;border-radius: 0.25em;background-color: #f0f8ff;}#sk-container-id-5 input.sk-toggleable__control:checked~div.sk-toggleable__content {max-height: 200px;max-width: 100%;overflow: auto;}#sk-container-id-5 input.sk-toggleable__control:checked~label.sk-toggleable__label-arrow:before {content: \"▾\";}#sk-container-id-5 div.sk-estimator input.sk-toggleable__control:checked~label.sk-toggleable__label {background-color: #d4ebff;}#sk-container-id-5 div.sk-label input.sk-toggleable__control:checked~label.sk-toggleable__label {background-color: #d4ebff;}#sk-container-id-5 input.sk-hidden--visually {border: 0;clip: rect(1px 1px 1px 1px);clip: rect(1px, 1px, 1px, 1px);height: 1px;margin: -1px;overflow: hidden;padding: 0;position: absolute;width: 1px;}#sk-container-id-5 div.sk-estimator {font-family: monospace;background-color: #f0f8ff;border: 1px dotted black;border-radius: 0.25em;box-sizing: border-box;margin-bottom: 0.5em;}#sk-container-id-5 div.sk-estimator:hover {background-color: #d4ebff;}#sk-container-id-5 div.sk-parallel-item::after {content: \"\";width: 100%;border-bottom: 1px solid gray;flex-grow: 1;}#sk-container-id-5 div.sk-label:hover label.sk-toggleable__label {background-color: #d4ebff;}#sk-container-id-5 div.sk-serial::before {content: \"\";position: absolute;border-left: 1px solid gray;box-sizing: border-box;top: 0;bottom: 0;left: 50%;z-index: 0;}#sk-container-id-5 div.sk-serial {display: flex;flex-direction: column;align-items: center;background-color: white;padding-right: 0.2em;padding-left: 0.2em;position: relative;}#sk-container-id-5 div.sk-item {position: relative;z-index: 1;}#sk-container-id-5 div.sk-parallel {display: flex;align-items: stretch;justify-content: center;background-color: white;position: relative;}#sk-container-id-5 div.sk-item::before, #sk-container-id-5 div.sk-parallel-item::before {content: \"\";position: absolute;border-left: 1px solid gray;box-sizing: border-box;top: 0;bottom: 0;left: 50%;z-index: -1;}#sk-container-id-5 div.sk-parallel-item {display: flex;flex-direction: column;z-index: 1;position: relative;background-color: white;}#sk-container-id-5 div.sk-parallel-item:first-child::after {align-self: flex-end;width: 50%;}#sk-container-id-5 div.sk-parallel-item:last-child::after {align-self: flex-start;width: 50%;}#sk-container-id-5 div.sk-parallel-item:only-child::after {width: 0;}#sk-container-id-5 div.sk-dashed-wrapped {border: 1px dashed gray;margin: 0 0.4em 0.5em 0.4em;box-sizing: border-box;padding-bottom: 0.4em;background-color: white;}#sk-container-id-5 div.sk-label label {font-family: monospace;font-weight: bold;display: inline-block;line-height: 1.2em;}#sk-container-id-5 div.sk-label-container {text-align: center;}#sk-container-id-5 div.sk-container {/* jupyter's `normalize.less` sets `[hidden] { display: none; }` but bootstrap.min.css set `[hidden] { display: none !important; }` so we also need the `!important` here to be able to override the default hidden behavior on the sphinx rendered scikit-learn.org. See: https://github.com/scikit-learn/scikit-learn/issues/21755 */display: inline-block !important;position: relative;}#sk-container-id-5 div.sk-text-repr-fallback {display: none;}</style><div id=\"sk-container-id-5\" class=\"sk-top-container\"><div class=\"sk-text-repr-fallback\"><pre>LinearRegression()</pre><b>In a Jupyter environment, please rerun this cell to show the HTML representation or trust the notebook. <br />On GitHub, the HTML representation is unable to render, please try loading this page with nbviewer.org.</b></div><div class=\"sk-container\" hidden><div class=\"sk-item\"><div class=\"sk-estimator sk-toggleable\"><input class=\"sk-toggleable__control sk-hidden--visually\" id=\"sk-estimator-id-5\" type=\"checkbox\" checked><label for=\"sk-estimator-id-5\" class=\"sk-toggleable__label sk-toggleable__label-arrow\">LinearRegression</label><div class=\"sk-toggleable__content\"><pre>LinearRegression()</pre></div></div></div></div></div>"
      ],
      "text/plain": [
       "LinearRegression()"
      ]
     },
     "execution_count": 91,
     "metadata": {},
     "output_type": "execute_result"
    }
   ],
   "source": [
    "X = df.iloc[:,:-1].values\n",
    "print(X)\n",
    "y = df.iloc[:,-1].values\n",
    "\n",
    "# 训练模型\n",
    "reg.fit(X,y)"
   ]
  },
  {
   "cell_type": "markdown",
   "metadata": {},
   "source": [
    "# Rank_ic"
   ]
  },
  {
   "cell_type": "code",
   "execution_count": 58,
   "metadata": {},
   "outputs": [],
   "source": [
    "import pandas as pd\n",
    "import argparse\n",
    "\n",
    "def rank_ic(result_path, label_path):\n",
    "\n",
    "    test_label = pd.read_csv(label_path).set_index(['time_id', 'stock_id'])\n",
    "    pred = pd.read_csv(result_path).set_index(['time_id', 'stock_id'])\n",
    "    result = pd.concat([pred, test_label], axis=1)\n",
    "\n",
    "    rank = result.groupby('time_id').apply(lambda df: (df['pred'].rank()).corr(df['label'].rank())).mean()\n",
    "    return rank\n"
   ]
  },
  {
   "cell_type": "markdown",
   "metadata": {},
   "source": [
    "# Run"
   ]
  },
  {
   "cell_type": "code",
   "execution_count": null,
   "metadata": {},
   "outputs": [],
   "source": [
    "import pandas as pd\n",
    "import pickle\n"
   ]
  },
  {
   "cell_type": "code",
   "execution_count": 49,
   "metadata": {},
   "outputs": [],
   "source": [
    "#加载测试数据\n",
    "test_df = pd.read_csv('./test.csv').set_index(['time_id', 'stock_id'])\n",
    "test_df.fillna(0, inplace=True)\n",
    "X_test = test_df.values"
   ]
  },
  {
   "cell_type": "code",
   "execution_count": 53,
   "metadata": {},
   "outputs": [],
   "source": [
    "# 读取模型\n",
    "\n",
    "with open('lgbm_model.pkl', 'rb') as f:\n",
    "    lgbm_model = pickle.load(f)\n",
    "with open('xgb_model.pkl', 'rb') as f:\n",
    "    xgb_model = pickle.load(f)"
   ]
  },
  {
   "cell_type": "code",
   "execution_count": 70,
   "metadata": {},
   "outputs": [
    {
     "name": "stdout",
     "output_type": "stream",
     "text": [
      "[LightGBM] [Warning] feature_fraction is set=0.9, colsample_bytree=1.0 will be ignored. Current value: feature_fraction=0.9\n",
      "[LightGBM] [Warning] bagging_fraction is set=0.8, subsample=1.0 will be ignored. Current value: bagging_fraction=0.8\n",
      "[LightGBM] [Warning] bagging_freq is set=5, subsample_freq=0 will be ignored. Current value: bagging_freq=5\n"
     ]
    }
   ],
   "source": [
    "y_pred_lgbm = lgbm_model.predict(X_test)\n",
    "y_pred_xgb = xgb_model.predict(X_test)\n"
   ]
  },
  {
   "cell_type": "code",
   "execution_count": 92,
   "metadata": {},
   "outputs": [
    {
     "name": "stdout",
     "output_type": "stream",
     "text": [
      "         time_id  stock_id\n",
      "0              0         0\n",
      "1              0         1\n",
      "2              0         2\n",
      "3              0         3\n",
      "4              0         4\n",
      "...          ...       ...\n",
      "1284582      727      2511\n",
      "1284583      727      2512\n",
      "1284584      727      2513\n",
      "1284585      727      2534\n",
      "1284586      727      2539\n",
      "\n",
      "[1284587 rows x 2 columns]\n",
      "175817\n",
      "<class 'pandas.core.frame.DataFrame'>\n",
      "RangeIndex: 175817 entries, 0 to 175816\n",
      "Data columns (total 4 columns):\n",
      " #   Column    Non-Null Count   Dtype  \n",
      "---  ------    --------------   -----  \n",
      " 0   time_id   175817 non-null  int64  \n",
      " 1   stock_id  175817 non-null  int64  \n",
      " 2   y_lgbm    175817 non-null  float64\n",
      " 3   y_xgb     175817 non-null  float32\n",
      "dtypes: float32(1), float64(1), int64(2)\n",
      "memory usage: 4.7 MB\n",
      "None\n",
      "[[ 7.47000000e+02  0.00000000e+00 -1.37814146e-03]\n",
      " [ 7.47000000e+02  1.00000000e+00  1.92634537e-03]\n",
      " [ 7.47000000e+02  2.00000000e+00  3.58563920e-03]\n",
      " ...\n",
      " [ 8.44000000e+02  2.53400000e+03  2.01757057e-03]\n",
      " [ 8.44000000e+02  2.53800000e+03  2.11753655e-03]\n",
      " [ 8.44000000e+02  2.53900000e+03  3.49762002e-03]]\n"
     ]
    },
    {
     "ename": "ValueError",
     "evalue": "X has 3 features, but LinearRegression is expecting 4 features as input.",
     "output_type": "error",
     "traceback": [
      "\u001b[0;31m---------------------------------------------------------------------------\u001b[0m",
      "\u001b[0;31mValueError\u001b[0m                                Traceback (most recent call last)",
      "Cell \u001b[0;32mIn[92], line 20\u001b[0m\n\u001b[1;32m     15\u001b[0m \u001b[39mprint\u001b[39m(X)\n\u001b[1;32m     17\u001b[0m \u001b[39m# 训练模型\u001b[39;00m\n\u001b[0;32m---> 20\u001b[0m y_pred \u001b[39m=\u001b[39m reg\u001b[39m.\u001b[39;49mpredict(X)\n\u001b[1;32m     21\u001b[0m \u001b[39m#保存结果\u001b[39;00m\n\u001b[1;32m     22\u001b[0m result \u001b[39m=\u001b[39m pd\u001b[39m.\u001b[39mDataFrame(y_pred, index \u001b[39m=\u001b[39m test_df\u001b[39m.\u001b[39mindex, columns\u001b[39m=\u001b[39m[\u001b[39m'\u001b[39m\u001b[39mpred\u001b[39m\u001b[39m'\u001b[39m])\n",
      "File \u001b[0;32m~/Quantitative Finance Competition/env/lib/python3.8/site-packages/sklearn/linear_model/_base.py:386\u001b[0m, in \u001b[0;36mLinearModel.predict\u001b[0;34m(self, X)\u001b[0m\n\u001b[1;32m    372\u001b[0m \u001b[39mdef\u001b[39;00m \u001b[39mpredict\u001b[39m(\u001b[39mself\u001b[39m, X):\n\u001b[1;32m    373\u001b[0m \u001b[39m    \u001b[39m\u001b[39m\"\"\"\u001b[39;00m\n\u001b[1;32m    374\u001b[0m \u001b[39m    Predict using the linear model.\u001b[39;00m\n\u001b[1;32m    375\u001b[0m \n\u001b[0;32m   (...)\u001b[0m\n\u001b[1;32m    384\u001b[0m \u001b[39m        Returns predicted values.\u001b[39;00m\n\u001b[1;32m    385\u001b[0m \u001b[39m    \"\"\"\u001b[39;00m\n\u001b[0;32m--> 386\u001b[0m     \u001b[39mreturn\u001b[39;00m \u001b[39mself\u001b[39;49m\u001b[39m.\u001b[39;49m_decision_function(X)\n",
      "File \u001b[0;32m~/Quantitative Finance Competition/env/lib/python3.8/site-packages/sklearn/linear_model/_base.py:369\u001b[0m, in \u001b[0;36mLinearModel._decision_function\u001b[0;34m(self, X)\u001b[0m\n\u001b[1;32m    366\u001b[0m \u001b[39mdef\u001b[39;00m \u001b[39m_decision_function\u001b[39m(\u001b[39mself\u001b[39m, X):\n\u001b[1;32m    367\u001b[0m     check_is_fitted(\u001b[39mself\u001b[39m)\n\u001b[0;32m--> 369\u001b[0m     X \u001b[39m=\u001b[39m \u001b[39mself\u001b[39;49m\u001b[39m.\u001b[39;49m_validate_data(X, accept_sparse\u001b[39m=\u001b[39;49m[\u001b[39m\"\u001b[39;49m\u001b[39mcsr\u001b[39;49m\u001b[39m\"\u001b[39;49m, \u001b[39m\"\u001b[39;49m\u001b[39mcsc\u001b[39;49m\u001b[39m\"\u001b[39;49m, \u001b[39m\"\u001b[39;49m\u001b[39mcoo\u001b[39;49m\u001b[39m\"\u001b[39;49m], reset\u001b[39m=\u001b[39;49m\u001b[39mFalse\u001b[39;49;00m)\n\u001b[1;32m    370\u001b[0m     \u001b[39mreturn\u001b[39;00m safe_sparse_dot(X, \u001b[39mself\u001b[39m\u001b[39m.\u001b[39mcoef_\u001b[39m.\u001b[39mT, dense_output\u001b[39m=\u001b[39m\u001b[39mTrue\u001b[39;00m) \u001b[39m+\u001b[39m \u001b[39mself\u001b[39m\u001b[39m.\u001b[39mintercept_\n",
      "File \u001b[0;32m~/Quantitative Finance Competition/env/lib/python3.8/site-packages/sklearn/base.py:625\u001b[0m, in \u001b[0;36mBaseEstimator._validate_data\u001b[0;34m(self, X, y, reset, validate_separately, cast_to_ndarray, **check_params)\u001b[0m\n\u001b[1;32m    622\u001b[0m     out \u001b[39m=\u001b[39m X, y\n\u001b[1;32m    624\u001b[0m \u001b[39mif\u001b[39;00m \u001b[39mnot\u001b[39;00m no_val_X \u001b[39mand\u001b[39;00m check_params\u001b[39m.\u001b[39mget(\u001b[39m\"\u001b[39m\u001b[39mensure_2d\u001b[39m\u001b[39m\"\u001b[39m, \u001b[39mTrue\u001b[39;00m):\n\u001b[0;32m--> 625\u001b[0m     \u001b[39mself\u001b[39;49m\u001b[39m.\u001b[39;49m_check_n_features(X, reset\u001b[39m=\u001b[39;49mreset)\n\u001b[1;32m    627\u001b[0m \u001b[39mreturn\u001b[39;00m out\n",
      "File \u001b[0;32m~/Quantitative Finance Competition/env/lib/python3.8/site-packages/sklearn/base.py:414\u001b[0m, in \u001b[0;36mBaseEstimator._check_n_features\u001b[0;34m(self, X, reset)\u001b[0m\n\u001b[1;32m    411\u001b[0m     \u001b[39mreturn\u001b[39;00m\n\u001b[1;32m    413\u001b[0m \u001b[39mif\u001b[39;00m n_features \u001b[39m!=\u001b[39m \u001b[39mself\u001b[39m\u001b[39m.\u001b[39mn_features_in_:\n\u001b[0;32m--> 414\u001b[0m     \u001b[39mraise\u001b[39;00m \u001b[39mValueError\u001b[39;00m(\n\u001b[1;32m    415\u001b[0m         \u001b[39mf\u001b[39m\u001b[39m\"\u001b[39m\u001b[39mX has \u001b[39m\u001b[39m{\u001b[39;00mn_features\u001b[39m}\u001b[39;00m\u001b[39m features, but \u001b[39m\u001b[39m{\u001b[39;00m\u001b[39mself\u001b[39m\u001b[39m.\u001b[39m\u001b[39m__class__\u001b[39m\u001b[39m.\u001b[39m\u001b[39m__name__\u001b[39m\u001b[39m}\u001b[39;00m\u001b[39m \u001b[39m\u001b[39m\"\u001b[39m\n\u001b[1;32m    416\u001b[0m         \u001b[39mf\u001b[39m\u001b[39m\"\u001b[39m\u001b[39mis expecting \u001b[39m\u001b[39m{\u001b[39;00m\u001b[39mself\u001b[39m\u001b[39m.\u001b[39mn_features_in_\u001b[39m}\u001b[39;00m\u001b[39m features as input.\u001b[39m\u001b[39m\"\u001b[39m\n\u001b[1;32m    417\u001b[0m     )\n",
      "\u001b[0;31mValueError\u001b[0m: X has 3 features, but LinearRegression is expecting 4 features as input."
     ]
    }
   ],
   "source": [
    "\n",
    "import pandas as pd\n",
    "import numpy as np\n",
    "\n",
    "test_df1 = pd.read_csv('./test.csv')\n",
    "test_df1.head()\n",
    "print(selected_columns)\n",
    "y_lgbm=pd.Series(y_pred_lgbm, name='y_lgbm') \n",
    "y_xgb=pd.Series(y_pred_xgb, name='y_xgb') \n",
    "df = pd.concat([test_df1[['time_id', 'stock_id']], y_lgbm,y_xgb], axis=1)  \n",
    "print(len(y_lgbm))\n",
    "\n",
    "print(df.info()) \n",
    "\n",
    "X = df.iloc[:,:-1].values\n",
    "print(X)\n",
    "\n",
    "# 训练模型\n",
    "\n",
    "\n",
    "y_pred = reg.predict(X)\n",
    "#保存结果\n",
    "result = pd.DataFrame(y_pred, index = test_df.index, columns=['pred'])\n",
    "\n",
    "result.to_csv('./result.csv')\n"
   ]
  },
  {
   "cell_type": "code",
   "execution_count": 71,
   "metadata": {},
   "outputs": [
    {
     "name": "stdout",
     "output_type": "stream",
     "text": [
      "rank_ic:  0.09978426234730715\n"
     ]
    }
   ],
   "source": [
    "#计算rank_ic\n",
    "def rank_ic(result_path, label_path):\n",
    "\n",
    "    test_label = pd.read_csv(label_path).set_index(['time_id', 'stock_id'])\n",
    "    pred = pd.read_csv(result_path).set_index(['time_id', 'stock_id'])\n",
    "    result = pd.concat([pred, test_label], axis=1)\n",
    "\n",
    "    rank = result.groupby('time_id').apply(lambda df: (df['pred'].rank()).corr(df['label'].rank())).mean()\n",
    "    return rank\n",
    "rank = rank_ic('./result.csv',\"./test_label.csv\")\n",
    "print('rank_ic: ', rank)"
   ]
  },
  {
   "cell_type": "code",
   "execution_count": null,
   "metadata": {},
   "outputs": [],
   "source": []
  }
 ],
 "metadata": {
  "kernelspec": {
   "display_name": "env",
   "language": "python",
   "name": "python3"
  },
  "language_info": {
   "codemirror_mode": {
    "name": "ipython",
    "version": 3
   },
   "file_extension": ".py",
   "mimetype": "text/x-python",
   "name": "python",
   "nbconvert_exporter": "python",
   "pygments_lexer": "ipython3",
   "version": "3.8.10"
  },
  "orig_nbformat": 4
 },
 "nbformat": 4,
 "nbformat_minor": 2
}
